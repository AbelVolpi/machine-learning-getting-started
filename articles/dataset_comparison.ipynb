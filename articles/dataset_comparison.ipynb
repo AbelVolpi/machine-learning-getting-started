{
  "nbformat": 4,
  "nbformat_minor": 0,
  "metadata": {
    "colab": {
      "provenance": [],
      "authorship_tag": "ABX9TyMUXogZy04RmOEg1EEP7y15"
    },
    "kernelspec": {
      "name": "python3",
      "display_name": "Python 3"
    },
    "language_info": {
      "name": "python"
    }
  },
  "cells": [
    {
      "cell_type": "markdown",
      "source": [
        "# Dataset comparison\n",
        "\n",
        "This notebook is intended to compare datasets related to phishing detection, comparing features and values."
      ],
      "metadata": {
        "id": "S0qOfd-n0ohv"
      }
    },
    {
      "cell_type": "code",
      "execution_count": null,
      "metadata": {
        "id": "ciaFqOhRxGDp"
      },
      "outputs": [],
      "source": []
    }
  ]
}