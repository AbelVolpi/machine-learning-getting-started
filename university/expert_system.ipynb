{
  "nbformat": 4,
  "nbformat_minor": 0,
  "metadata": {
    "colab": {
      "provenance": [],
      "toc_visible": true
    },
    "kernelspec": {
      "name": "python3",
      "display_name": "Python 3"
    },
    "language_info": {
      "name": "python"
    }
  },
  "cells": [
    {
      "cell_type": "markdown",
      "source": [
        "# Setup"
      ],
      "metadata": {
        "id": "3o5OX6sxGsZI"
      }
    },
    {
      "cell_type": "code",
      "source": [
        "!pip install experta\n",
        "\n",
        "!sed -i 's/import collections$/import collections.abc as collections/' /usr/local/lib/python3.11/dist-packages/frozendict/__init__.py"
      ],
      "metadata": {
        "colab": {
          "base_uri": "https://localhost:8080/"
        },
        "id": "SG6FSqL9Et3O",
        "outputId": "5494bfaa-125d-464f-be91-401d888084a7"
      },
      "execution_count": null,
      "outputs": [
        {
          "output_type": "stream",
          "name": "stdout",
          "text": [
            "Requirement already satisfied: experta in /usr/local/lib/python3.11/dist-packages (1.9.4)\n",
            "Requirement already satisfied: frozendict==1.2 in /usr/local/lib/python3.11/dist-packages (from experta) (1.2)\n",
            "Requirement already satisfied: schema==0.6.7 in /usr/local/lib/python3.11/dist-packages (from experta) (0.6.7)\n"
          ]
        }
      ]
    },
    {
      "cell_type": "markdown",
      "source": [
        "# Expert System"
      ],
      "metadata": {
        "id": "64MsGSa3GvOS"
      }
    },
    {
      "cell_type": "code",
      "execution_count": null,
      "metadata": {
        "colab": {
          "base_uri": "https://localhost:8080/"
        },
        "id": "H9PEVjKsEPeV",
        "outputId": "e85f2b4e-247c-4a67-e7cc-27b9ef57775c"
      },
      "outputs": [
        {
          "output_type": "stream",
          "name": "stdout",
          "text": [
            "Qual seu perfil de investidor? (conservador/moderado/arrojado): conservador\n",
            "Qual o tempo para o investimento? (curto/médio/longo): curto\n",
            "Qual o nível de risco aceitável? (baixo/médio/alto): médio\n",
            "Recomendação: Poupança (mas com baixa rentabilidade).\n"
          ]
        }
      ],
      "source": [
        "from experta import *\n",
        "\n",
        "class Investidor(Fact):\n",
        "    perfil = Field(str)\n",
        "    tempo = Field(str)\n",
        "    risco = Field(str)\n",
        "\n",
        "class SistemaInvestimento(KnowledgeEngine):\n",
        "\n",
        "    @Rule(Investidor(perfil=\"conservador\", risco=\"baixo\"))\n",
        "    def investimento_seguro(self):\n",
        "        print(\"Recomendação: CDB, Tesouro Selic ou fundos de renda fixa.\")\n",
        "\n",
        "    @Rule(Investidor(perfil=\"conservador\", tempo=\"curto\"))\n",
        "    def poupanca(self):\n",
        "        print(\"Recomendação: Poupança (mas com baixa rentabilidade).\")\n",
        "\n",
        "    @Rule(Investidor(perfil=\"moderado\", tempo=\"médio\"))\n",
        "    def fundo_multimercado(self):\n",
        "        print(\"Recomendação: Fundos Multimercado ou Tesouro IPCA.\")\n",
        "\n",
        "    @Rule(Investidor(perfil=\"moderado\", tempo=\"longo\"))\n",
        "    def diversificado(self):\n",
        "        print(\"Recomendação: Carteira diversificada com renda variável e fixa.\")\n",
        "\n",
        "    @Rule(Investidor(perfil=\"arrojado\", risco=\"alto\", tempo=\"longo\"))\n",
        "    def acoes_cripto(self):\n",
        "        print(\"Recomendação: Ações, ETFs e Criptoativos.\")\n",
        "\n",
        "    @Rule(Investidor(perfil=\"arrojado\", tempo=\"curto\"))\n",
        "    def daytrade(self):\n",
        "        print(\"Recomendação: Day trade ou opções (alto risco!).\")\n",
        "\n",
        "def main():\n",
        "    engine = SistemaInvestimento()\n",
        "    engine.reset()\n",
        "\n",
        "    perfil = input(\"Qual seu perfil de investidor? (conservador/moderado/arrojado): \").strip().lower()\n",
        "    tempo = input(\"Qual o tempo para o investimento? (curto/médio/longo): \").strip().lower()\n",
        "    risco = input(\"Qual o nível de risco aceitável? (baixo/médio/alto): \").strip().lower()\n",
        "\n",
        "    engine.declare(Investidor(perfil=perfil, tempo=tempo, risco=risco))\n",
        "    engine.run()\n",
        "\n",
        "if __name__ == \"__main__\":\n",
        "    main()\n"
      ]
    }
  ]
}